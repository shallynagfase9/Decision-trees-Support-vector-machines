{
  "nbformat": 4,
  "nbformat_minor": 0,
  "metadata": {
    "colab": {
      "provenance": [],
      "authorship_tag": "ABX9TyP27IOmb5g0tQn13/uCSroY",
      "include_colab_link": true
    },
    "kernelspec": {
      "name": "python3",
      "display_name": "Python 3"
    },
    "language_info": {
      "name": "python"
    }
  },
  "cells": [
    {
      "cell_type": "markdown",
      "metadata": {
        "id": "view-in-github",
        "colab_type": "text"
      },
      "source": [
        "<a href=\"https://colab.research.google.com/github/shallynagfase9/Decision-trees-Support-vector-machines/blob/main/Support_Vector_Machines_3.ipynb\" target=\"_parent\"><img src=\"https://colab.research.google.com/assets/colab-badge.svg\" alt=\"Open In Colab\"/></a>"
      ]
    },
    {
      "cell_type": "markdown",
      "source": [
        "Q1. In order to predict house price based on several characteristics, such as location, square footage,\n",
        "number of bedrooms, etc., you are developing an SVM regression model. Which regression metric in this\n",
        "situation would be the best to employ? Dataset link: https://drive.google.com/file/d/1Z9oLpmt6IDRNw7IeNcHYTGeJRYypRSC0/view?\n",
        "usp=share_link"
      ],
      "metadata": {
        "id": "Y20KFfMmpDVk"
      }
    },
    {
      "cell_type": "markdown",
      "source": [
        "from sklearn.metrics import mean_squared_error, mean_absolute_error, r2_score\n",
        "\n",
        "# Assuming y_true are the true house prices and y_pred are the predicted house prices\n",
        "y_true = [...]  # Replace with actual true values\n",
        "y_pred = [...]  # Replace with predicted values from your SVM regression model\n",
        "\n",
        "# Calculate metrics\n",
        "mse = mean_squared_error(y_true, y_pred)\n",
        "rmse = np.sqrt(mse)\n",
        "mae = mean_absolute_error(y_true, y_pred)\n",
        "r2 = r2_score(y_true, y_pred)\n",
        "\n",
        "print(f'Mean Squared Error (MSE): {mse:.2f}')\n",
        "print(f'Root Mean Squared Error (RMSE): {rmse:.2f}')\n",
        "print(f'Mean Absolute Error (MAE): {mae:.2f}')\n",
        "print(f'R-squared (R2): {r2:.2f}')\n"
      ],
      "metadata": {
        "id": "PdzEXV60pVeg"
      }
    },
    {
      "cell_type": "markdown",
      "source": [
        "Q2. You have built an SVM regression model and are trying to decide between using MSE or R-squared as\n",
        "your evaluation metric. Which metric would be more appropriate if your goal is to predict the actual price\n",
        "of a house as accurately as possible?"
      ],
      "metadata": {
        "id": "g8D7WC9ApWiY"
      }
    },
    {
      "cell_type": "code",
      "source": [
        "\"\"\"\n",
        "While R-squared provides insights into the overall goodness-of-fit of the SVM regression model, MSE directly assesses the prediction accuracy in terms of how close the predicted house prices are to the actual prices.\n",
        "Therefore, if your primary goal is to predict house prices as accurately as possible, MSE should be the preferred evaluation metric for your SVM regression model.\n",
        "\n",
        "\"\"\""
      ],
      "metadata": {
        "id": "3grx34r8pamV"
      },
      "execution_count": null,
      "outputs": []
    },
    {
      "cell_type": "markdown",
      "source": [
        "Q3. You have a dataset with a significant number of outliers and are trying to select an appropriate\n",
        "regression metric to use with your SVM model. Which metric would be the most appropriate in this\n",
        "scenario?"
      ],
      "metadata": {
        "id": "tccIcLVUpjw-"
      }
    },
    {
      "cell_type": "code",
      "source": [
        "\"\"\"\n",
        "Given the presence of outliers in your dataset, using Mean Absolute Error (MAE) as the regression metric for evaluating your SVM model ensures that the performance assessment is robust and less affected by extreme values. MAE provides a reliable measure of prediction accuracy that aligns well with the typical error magnitude in the presence of outliers.\n",
        "Therefore, it is the most appropriate metric to use in this scenario.\n",
        "\"\"\""
      ],
      "metadata": {
        "id": "mQayszcXplQW"
      },
      "execution_count": null,
      "outputs": []
    },
    {
      "cell_type": "markdown",
      "source": [
        "Q4. You have built an SVM regression model using a polynomial kernel and are trying to select the best\n",
        "metric to evaluate its performance. You have calculated both MSE and RMSE and found that both values\n",
        "are very close. Which metric should you choose to use in this case?"
      ],
      "metadata": {
        "id": "2plb8rd9ptbl"
      }
    },
    {
      "cell_type": "code",
      "source": [
        "\"\"\"\n",
        "When you have built an SVM regression model using a polynomial kernel and both Mean Squared Error (MSE) and Root Mean Squared Error (RMSE) are very close, either metric can be suitable for evaluating the performance of your model. However, there are a few considerations to help you decide which one to choose:\n",
        "\n",
        "Mean Squared Error (MSE):\n",
        "- Definition: MSE measures the average squared differences between predicted values and actual values.\n",
        "- Interpretation: MSE directly penalizes larger errors more than smaller errors due to the squaring operation.\n",
        "- Advantages: It is straightforward to compute and interpret. It provides a clear measure of the average magnitude of squared errors, which can be useful for understanding the overall prediction accuracy.\n",
        "\n",
        "Root Mean Squared Error (RMSE):\n",
        "- Definition: RMSE is the square root of MSE and measures the average magnitude of the prediction errors in the same units as the target variable.\n",
        "- Interpretation: RMSE is more interpretable than MSE as it is on the same scale as the target variable (e.g., house prices in dollars).\n",
        "- Advantages: RMSE gives a sense of how far off, on average, the predictions are from the actual values. It is particularly useful when you want to understand the typical magnitude of errors in the units of the original data.\n",
        "\n",
        "Choosing Between MSE and RMSE:\n",
        "Given that MSE and RMSE are very close in your evaluation:\n",
        "\n",
        "- If Interpretability Matters: Choose RMSE because it provides an interpretable measure of average prediction error in the same units as the target variable. This can be useful for explaining the typical prediction accuracy to stakeholders.\n",
        "\n",
        "- If Direct Comparison with Other Models or Benchmarks: MSE might be preferred as it directly reflects the squared average errors, which is a standard measure used across various regression models.\n",
        "\n",
        "- Consideration for Squaring Effect: Keep in mind that MSE squares errors, which can amplify the effect of large errors. If you are concerned about this amplification and prefer a metric that reflects typical error magnitude without the squared effect, RMSE is a better choice.\n",
        "\n",
        "\"\"\""
      ],
      "metadata": {
        "id": "YVFCX886pvBi"
      },
      "execution_count": null,
      "outputs": []
    },
    {
      "cell_type": "markdown",
      "source": [
        "Q5. You are comparing the performance of different SVM regression models using different kernels (linear,\n",
        "polynomial, and RBF) and are trying to select the best evaluation metric. Which metric would be most\n",
        "appropriate if your goal is to measure how well the model explains the variance in the target variable?"
      ],
      "metadata": {
        "id": "pYBZON34qI0a"
      }
    },
    {
      "cell_type": "code",
      "source": [
        "\"\"\"\n",
        "For evaluating SVM regression models with different kernels (linear, polynomial, RBF) and assessing how well they explain the variance in the target variable, R-squared (Coefficient of Determination) is the most appropriate metric.\n",
        "It provides a comprehensive measure of model fit by quantifying the proportion of variance in the target variable that is explained by the models, facilitating informed decisions about model selection based on their explanatory power.\n",
        "\n",
        "\"\"\""
      ],
      "metadata": {
        "id": "Vi_gdwlcqKty"
      },
      "execution_count": null,
      "outputs": []
    }
  ]
}